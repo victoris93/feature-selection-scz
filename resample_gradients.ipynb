{
 "cells": [
  {
   "cell_type": "code",
   "execution_count": 1,
   "metadata": {},
   "outputs": [],
   "source": [
    "import nilearn\n",
    "import brainspace\n",
    "import numpy as np\n",
    "import os\n",
    "import nibabel as nib\n",
    "from IPython.core.interactiveshell import InteractiveShell\n",
    "InteractiveShell.ast_node_interactivity = \"all\"\n",
    "from austin_utils import save_gifti"
   ]
  },
  {
   "cell_type": "code",
   "execution_count": 2,
   "metadata": {},
   "outputs": [],
   "source": [
    "lab_l = nib.load('HCP/labels/fsLR.32k.L.label.gii').agg_data()\n",
    "lab_r = nib.load('HCP/labels/fsLR.32k.R.label.gii').agg_data()\n",
    "labs  = np.concatenate((lab_l, lab_r))"
   ]
  },
  {
   "cell_type": "code",
   "execution_count": 3,
   "metadata": {},
   "outputs": [],
   "source": [
    "subjects = [\"100206\", \"100307\", \"100408\", \"100610\", \"101006\"]\n",
    "gradient_list = []\n",
    "for subject in subjects:\n",
    "    gradient = np.load(\"HCP/Gradients/%s/%s.mapalign.ses1.diffmap.s02mm.npy\" % (subject, subject))\n",
    "    gradient_list.append(gradient)\n",
    "\n",
    "gradients_ses1 = np.stack((gradient_list))\n",
    "\n",
    "gradient_list = []\n",
    "for subject in subjects:\n",
    "    gradient = np.load(\"HCP/Gradients/%s/%s.mapalign.ses2.diffmap.s02mm.npy\" % (subject, subject))\n",
    "    gradient_list.append(gradient)\n",
    "\n",
    "gradients_ses2 = np.stack((gradient_list))"
   ]
  },
  {
   "cell_type": "code",
   "execution_count": 4,
   "metadata": {},
   "outputs": [],
   "source": [
    "labeled_grads_ses1 = np.zeros((5, 3, 32492*2))\n",
    "\n",
    "for subject, subject_map in zip(gradients_ses1, labeled_grads_ses1):\n",
    "    subject_map[0][labs != 0] = subject[0]\n",
    "    subject_map[1][labs != 0] = subject[1]\n",
    "    subject_map[2][labs != 0] = subject[2]\n",
    "\n",
    "\n",
    "labeled_grads_ses2 = np.zeros((5, 3, 32492*2))\n",
    "\n",
    "for subject, subject_map in zip(gradients_ses2, labeled_grads_ses2):\n",
    "    subject_map[0][labs != 0] = subject[0]\n",
    "    subject_map[1][labs != 0] = subject[1]\n",
    "    subject_map[2][labs != 0] = subject[2]"
   ]
  },
  {
   "cell_type": "code",
   "execution_count": 5,
   "metadata": {},
   "outputs": [],
   "source": [
    "sessions = [labeled_grads_ses1, labeled_grads_ses2] #saving each gradient as gifti\n",
    "hemi_L = \"L\"\n",
    "hemi_R = \"R\"\n",
    "grads = [\"1\", \"2\", \"3\"]\n",
    "filenames_L= []\n",
    "filenames_R = []\n",
    "gii_paths_L= []\n",
    "gii_paths_R = []\n",
    "for session, session_n in zip(sessions, [\"1\", \"2\"]):\n",
    "    for subject, id in zip(session, subjects):\n",
    "        for gradient_array, grad in zip(subject, grads):\n",
    "            filename_L = \"%s_grad%s_ses%s_%s\" % (id, grad, session_n, hemi_L)\n",
    "            filename_R = \"%s_grad%s_ses%s_%s\" % (id, grad, session_n, hemi_R)\n",
    "            save_gifti(gradient_array[:int(len(gradient_array)/2)], filename_L)\n",
    "            save_gifti(gradient_array[int(len(gradient_array)/2):], filename_R)\n",
    "            filenames_L.append(filename_L)\n",
    "            filenames_R.append(filename_R)\n",
    "            gii_paths_L.append(\"/Users/VictoriaShevchenko/Documents/PhD/\"+ filename_L + \".func.gii\")\n",
    "            gii_paths_R.append(\"/Users/VictoriaShevchenko/Documents/PhD/\"+ filename_R + \".func.gii\")"
   ]
  },
  {
   "cell_type": "code",
   "execution_count": 6,
   "metadata": {},
   "outputs": [],
   "source": [
    "%%capture\n",
    "# Resampling surface gradient maps to 4k\n",
    "directory = \"/Users/VictoriaShevchenko/Documents/PhD/HCP/resampled_grads/\"\n",
    "import os\n",
    "for path_L, filename_L in zip(gii_paths_L, filenames_L):\n",
    "    out_file = directory + filename_L + \"4k.func.gii\"\n",
    "    os.system(\"wb_command -metric-resample %s /Users/VictoriaShevchenko/Documents/PhD/HCP/spheres/S1200.L.sphere.32k_fs_LR.surf.gii /Users/VictoriaShevchenko/Documents/PhD/HCP/spheres/S1200.L.sphere.4k_fs_LR.surf.gii BARYCENTRIC %s\" %(path_L, out_file))\n",
    "\n",
    "for path_R, filename_R in zip(gii_paths_R, filenames_R):\n",
    "    out_file = directory + filename_R + \"4k.func.gii\"\n",
    "    os.system(\"wb_command -metric-resample %s /Users/VictoriaShevchenko/Documents/PhD/HCP/spheres/S1200.R.sphere.32k_fs_LR.surf.gii /Users/VictoriaShevchenko/Documents/PhD/HCP/spheres/S1200.R.sphere.4k_fs_LR.surf.gii BARYCENTRIC %s\" %(path_R, out_file))"
   ]
  },
  {
   "cell_type": "code",
   "execution_count": 7,
   "metadata": {},
   "outputs": [
    {
     "name": "stderr",
     "output_type": "stream",
     "text": [
      "\n",
      "WARNING: Metric File: /Users/VictoriaShevchenko/Documents/PhD/HCP/labels/fsLR.32k.L.label.gii contains data array with NIFTI_INTENT_LABEL !!!\n",
      "\n",
      "\n",
      "WARNING: metric file '/Users/VictoriaShevchenko/Documents/PhD/HCP/labels/fsLR.4k.L.label_metric.gii' should be saved ending in .func.gii or .shape.gii, see wb_command -gifti-help\n",
      "\n"
     ]
    },
    {
     "data": {
      "text/plain": [
       "0"
      ]
     },
     "execution_count": 7,
     "metadata": {},
     "output_type": "execute_result"
    },
    {
     "name": "stderr",
     "output_type": "stream",
     "text": [
      "\n",
      "WARNING: Metric File: /Users/VictoriaShevchenko/Documents/PhD/HCP/labels/fsLR.32k.R.label.gii contains data array with NIFTI_INTENT_LABEL !!!\n",
      "\n",
      "\n",
      "WARNING: metric file '/Users/VictoriaShevchenko/Documents/PhD/HCP/labels/fsLR.4k.R.label_metric.gii' should be saved ending in .func.gii or .shape.gii, see wb_command -gifti-help\n",
      "\n"
     ]
    },
    {
     "data": {
      "text/plain": [
       "0"
      ]
     },
     "execution_count": 7,
     "metadata": {},
     "output_type": "execute_result"
    },
    {
     "data": {
      "text/plain": [
       "0"
      ]
     },
     "execution_count": 7,
     "metadata": {},
     "output_type": "execute_result"
    },
    {
     "data": {
      "text/plain": [
       "0"
      ]
     },
     "execution_count": 7,
     "metadata": {},
     "output_type": "execute_result"
    }
   ],
   "source": [
    "# resampling labels\n",
    "os.system(\"wb_command -metric-resample /Users/VictoriaShevchenko/Documents/PhD/HCP/labels/fsLR.32k.L.label.gii /Users/VictoriaShevchenko/Documents/PhD/HCP/spheres/S1200.L.sphere.32k_fs_LR.surf.gii /Users/VictoriaShevchenko/Documents/PhD/HCP/spheres/S1200.L.sphere.4k_fs_LR.surf.gii BARYCENTRIC /Users/VictoriaShevchenko/Documents/PhD/HCP/labels/fsLR.4k.L.label_metric.gii\")\n",
    "os.system(\"wb_command -metric-resample /Users/VictoriaShevchenko/Documents/PhD/HCP/labels/fsLR.32k.R.label.gii /Users/VictoriaShevchenko/Documents/PhD/HCP/spheres/S1200.R.sphere.32k_fs_LR.surf.gii /Users/VictoriaShevchenko/Documents/PhD/HCP/spheres/S1200.R.sphere.4k_fs_LR.surf.gii BARYCENTRIC /Users/VictoriaShevchenko/Documents/PhD/HCP/labels/fsLR.4k.R.label_metric.gii\")\n",
    "\n",
    "os.system(\"wb_command -label-resample /Users/VictoriaShevchenko/Documents/PhD/HCP/labels/fsLR.32k.L.label.gii /Users/VictoriaShevchenko/Documents/PhD/HCP/spheres/S1200.L.sphere.32k_fs_LR.surf.gii /Users/VictoriaShevchenko/Documents/PhD/HCP/spheres/S1200.L.sphere.4k_fs_LR.surf.gii BARYCENTRIC /Users/VictoriaShevchenko/Documents/PhD/HCP/labels/fsLR.4k.L.label.gii\")\n",
    "os.system(\"wb_command -label-resample /Users/VictoriaShevchenko/Documents/PhD/HCP/labels/fsLR.32k.R.label.gii /Users/VictoriaShevchenko/Documents/PhD/HCP/spheres/S1200.R.sphere.32k_fs_LR.surf.gii /Users/VictoriaShevchenko/Documents/PhD/HCP/spheres/S1200.R.sphere.4k_fs_LR.surf.gii BARYCENTRIC /Users/VictoriaShevchenko/Documents/PhD/HCP/labels/fsLR.4k.R.label.gii\")"
   ]
  }
 ],
 "metadata": {
  "kernelspec": {
   "display_name": "Python 3.9.13 ('neuro')",
   "language": "python",
   "name": "python3"
  },
  "language_info": {
   "codemirror_mode": {
    "name": "ipython",
    "version": 3
   },
   "file_extension": ".py",
   "mimetype": "text/x-python",
   "name": "python",
   "nbconvert_exporter": "python",
   "pygments_lexer": "ipython3",
   "version": "3.9.13"
  },
  "orig_nbformat": 4,
  "vscode": {
   "interpreter": {
    "hash": "a46811f360801e2b10c5cb0e5e692288746a4ce011302d6efda50fd28a2ae2e3"
   }
  }
 },
 "nbformat": 4,
 "nbformat_minor": 2
}
