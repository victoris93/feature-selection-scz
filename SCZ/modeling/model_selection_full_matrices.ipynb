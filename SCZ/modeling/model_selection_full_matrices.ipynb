{
 "cells": [
  {
   "cell_type": "code",
   "execution_count": 1,
   "metadata": {},
   "outputs": [],
   "source": [
    "import numpy as np\n",
    "import nilearn\n",
    "import pandas as pd\n",
    "import os\n",
    "import pycaret\n",
    "from nilearn.connectome import sym_matrix_to_vec\n",
    "import pickle\n",
    "import json\n",
    "from prep_data_utils import *\n",
    "from pycaret.classification import *"
   ]
  },
  {
   "cell_type": "markdown",
   "metadata": {},
   "source": [
    "# Prepare Data for Pycaret"
   ]
  },
  {
   "cell_type": "code",
   "execution_count": 2,
   "metadata": {},
   "outputs": [],
   "source": [
    "data_paths = json.load(open('data_paths.json', 'r'))"
   ]
  },
  {
   "cell_type": "code",
   "execution_count": 3,
   "metadata": {},
   "outputs": [],
   "source": [
    "diagnosis_mapping = {\n",
    "    'CONTROL': 0,\n",
    "    'SCHZ': 1,\n",
    "    'Schizophrenia_Strict': 1,\n",
    "    'No_Known_Disorder': 0,\n",
    "    4: 1,\n",
    "    0: 0\n",
    "}"
   ]
  },
  {
   "cell_type": "code",
   "execution_count": 4,
   "metadata": {},
   "outputs": [],
   "source": [
    "participants = prepare_data_csv(data_paths, diag_mapping = diagnosis_mapping)\n"
   ]
  },
  {
   "cell_type": "code",
   "execution_count": 5,
   "metadata": {},
   "outputs": [
    {
     "data": {
      "text/html": [
       "<div>\n",
       "<style scoped>\n",
       "    .dataframe tbody tr th:only-of-type {\n",
       "        vertical-align: middle;\n",
       "    }\n",
       "\n",
       "    .dataframe tbody tr th {\n",
       "        vertical-align: top;\n",
       "    }\n",
       "\n",
       "    .dataframe thead th {\n",
       "        text-align: right;\n",
       "    }\n",
       "</style>\n",
       "<table border=\"1\" class=\"dataframe\">\n",
       "  <thead>\n",
       "    <tr style=\"text-align: right;\">\n",
       "      <th></th>\n",
       "      <th>participant_id</th>\n",
       "      <th>diagnosis</th>\n",
       "      <th>dataset</th>\n",
       "      <th>path</th>\n",
       "    </tr>\n",
       "  </thead>\n",
       "  <tbody>\n",
       "    <tr>\n",
       "      <th>0</th>\n",
       "      <td>A00014636</td>\n",
       "      <td>1</td>\n",
       "      <td>COBRE-SCZ</td>\n",
       "      <td>/gpfs3/well/margulies/projects/data/COBRE/SCZ/...</td>\n",
       "    </tr>\n",
       "    <tr>\n",
       "      <th>1</th>\n",
       "      <td>A00014804</td>\n",
       "      <td>1</td>\n",
       "      <td>COBRE-SCZ</td>\n",
       "      <td>/gpfs3/well/margulies/projects/data/COBRE/SCZ/...</td>\n",
       "    </tr>\n",
       "    <tr>\n",
       "      <th>2</th>\n",
       "      <td>A00014830</td>\n",
       "      <td>1</td>\n",
       "      <td>COBRE-SCZ</td>\n",
       "      <td>/gpfs3/well/margulies/projects/data/COBRE/SCZ/...</td>\n",
       "    </tr>\n",
       "    <tr>\n",
       "      <th>3</th>\n",
       "      <td>A00024959</td>\n",
       "      <td>1</td>\n",
       "      <td>COBRE-SCZ</td>\n",
       "      <td>/gpfs3/well/margulies/projects/data/COBRE/SCZ/...</td>\n",
       "    </tr>\n",
       "    <tr>\n",
       "      <th>4</th>\n",
       "      <td>A00024568</td>\n",
       "      <td>1</td>\n",
       "      <td>COBRE-SCZ</td>\n",
       "      <td>/gpfs3/well/margulies/projects/data/COBRE/SCZ/...</td>\n",
       "    </tr>\n",
       "    <tr>\n",
       "      <th>...</th>\n",
       "      <td>...</td>\n",
       "      <td>...</td>\n",
       "      <td>...</td>\n",
       "      <td>...</td>\n",
       "    </tr>\n",
       "    <tr>\n",
       "      <th>273</th>\n",
       "      <td>1532</td>\n",
       "      <td>1</td>\n",
       "      <td>SRPBS-1600-UTO</td>\n",
       "      <td>/gpfs3/well/margulies/projects/data/SRPBS_1600...</td>\n",
       "    </tr>\n",
       "    <tr>\n",
       "      <th>274</th>\n",
       "      <td>1533</td>\n",
       "      <td>1</td>\n",
       "      <td>SRPBS-1600-UTO</td>\n",
       "      <td>/gpfs3/well/margulies/projects/data/SRPBS_1600...</td>\n",
       "    </tr>\n",
       "    <tr>\n",
       "      <th>275</th>\n",
       "      <td>1534</td>\n",
       "      <td>1</td>\n",
       "      <td>SRPBS-1600-UTO</td>\n",
       "      <td>/gpfs3/well/margulies/projects/data/SRPBS_1600...</td>\n",
       "    </tr>\n",
       "    <tr>\n",
       "      <th>276</th>\n",
       "      <td>1535</td>\n",
       "      <td>1</td>\n",
       "      <td>SRPBS-1600-UTO</td>\n",
       "      <td>/gpfs3/well/margulies/projects/data/SRPBS_1600...</td>\n",
       "    </tr>\n",
       "    <tr>\n",
       "      <th>277</th>\n",
       "      <td>1536</td>\n",
       "      <td>1</td>\n",
       "      <td>SRPBS-1600-UTO</td>\n",
       "      <td>/gpfs3/well/margulies/projects/data/SRPBS_1600...</td>\n",
       "    </tr>\n",
       "  </tbody>\n",
       "</table>\n",
       "<p>997 rows × 4 columns</p>\n",
       "</div>"
      ],
      "text/plain": [
       "    participant_id  diagnosis         dataset  \\\n",
       "0        A00014636          1       COBRE-SCZ   \n",
       "1        A00014804          1       COBRE-SCZ   \n",
       "2        A00014830          1       COBRE-SCZ   \n",
       "3        A00024959          1       COBRE-SCZ   \n",
       "4        A00024568          1       COBRE-SCZ   \n",
       "..             ...        ...             ...   \n",
       "273           1532          1  SRPBS-1600-UTO   \n",
       "274           1533          1  SRPBS-1600-UTO   \n",
       "275           1534          1  SRPBS-1600-UTO   \n",
       "276           1535          1  SRPBS-1600-UTO   \n",
       "277           1536          1  SRPBS-1600-UTO   \n",
       "\n",
       "                                                  path  \n",
       "0    /gpfs3/well/margulies/projects/data/COBRE/SCZ/...  \n",
       "1    /gpfs3/well/margulies/projects/data/COBRE/SCZ/...  \n",
       "2    /gpfs3/well/margulies/projects/data/COBRE/SCZ/...  \n",
       "3    /gpfs3/well/margulies/projects/data/COBRE/SCZ/...  \n",
       "4    /gpfs3/well/margulies/projects/data/COBRE/SCZ/...  \n",
       "..                                                 ...  \n",
       "273  /gpfs3/well/margulies/projects/data/SRPBS_1600...  \n",
       "274  /gpfs3/well/margulies/projects/data/SRPBS_1600...  \n",
       "275  /gpfs3/well/margulies/projects/data/SRPBS_1600...  \n",
       "276  /gpfs3/well/margulies/projects/data/SRPBS_1600...  \n",
       "277  /gpfs3/well/margulies/projects/data/SRPBS_1600...  \n",
       "\n",
       "[997 rows x 4 columns]"
      ]
     },
     "execution_count": 5,
     "metadata": {},
     "output_type": "execute_result"
    }
   ],
   "source": [
    "participants"
   ]
  },
  {
   "cell_type": "code",
   "execution_count": null,
   "metadata": {},
   "outputs": [
    {
     "name": "stderr",
     "output_type": "stream",
     "text": [
      "\r",
      "  0%|                                                   | 0/997 [00:00<?, ?it/s]"
     ]
    },
    {
     "name": "stdout",
     "output_type": "stream",
     "text": [
      "Data not found for subject A00014636: [Errno 2] No such file or directory: '/gpfs3/well/margulies/projects/data/COBRE/SCZ/derivatives/fmriprep/clean_data/sub-A00014636/func'.\n"
     ]
    },
    {
     "name": "stderr",
     "output_type": "stream",
     "text": [
      "  1%|▌                                         | 12/997 [00:02<04:21,  3.77it/s]"
     ]
    },
    {
     "name": "stdout",
     "output_type": "stream",
     "text": [
      "Data not found for subject A00023243: [Errno 2] No such file or directory: '/gpfs3/well/margulies/projects/data/COBRE/SCZ/derivatives/fmriprep/clean_data/sub-A00023243/func'.\n",
      "Data not found for subject A00022500: [Errno 2] No such file or directory: '/gpfs3/well/margulies/projects/data/COBRE/SCZ/derivatives/fmriprep/clean_data/sub-A00022500/func'.\n"
     ]
    },
    {
     "name": "stderr",
     "output_type": "stream",
     "text": [
      "  2%|▉                                         | 21/997 [00:04<04:03,  4.02it/s]"
     ]
    },
    {
     "name": "stdout",
     "output_type": "stream",
     "text": [
      "Data not found for subject A00019349: [Errno 2] No such file or directory: '/gpfs3/well/margulies/projects/data/COBRE/SCZ/derivatives/fmriprep/clean_data/sub-A00019349/func'.\n"
     ]
    },
    {
     "name": "stderr",
     "output_type": "stream",
     "text": [
      "  2%|█                                         | 24/997 [00:05<03:29,  4.64it/s]"
     ]
    },
    {
     "name": "stdout",
     "output_type": "stream",
     "text": [
      "Data not found for subject A00001181: [Errno 2] No such file or directory: '/gpfs3/well/margulies/projects/data/COBRE/SCZ/derivatives/fmriprep/clean_data/sub-A00001181/func'.\n",
      "Data not found for subject A00018434: [Errno 2] No such file or directory: '/gpfs3/well/margulies/projects/data/COBRE/SCZ/derivatives/fmriprep/clean_data/sub-A00018434/func'.\n"
     ]
    },
    {
     "name": "stderr",
     "output_type": "stream",
     "text": [
      "  3%|█▎                                        | 30/997 [00:06<03:17,  4.89it/s]"
     ]
    },
    {
     "name": "stdout",
     "output_type": "stream",
     "text": [
      "Data not found for subject A00015518: [Errno 2] No such file or directory: '/gpfs3/well/margulies/projects/data/COBRE/SCZ/derivatives/fmriprep/clean_data/sub-A00015518/func'.\n"
     ]
    },
    {
     "name": "stderr",
     "output_type": "stream",
     "text": [
      "  4%|█▍                                        | 35/997 [00:07<03:50,  4.18it/s]"
     ]
    },
    {
     "name": "stdout",
     "output_type": "stream",
     "text": [
      "Data not found for subject A00014590: [Errno 2] No such file or directory: '/gpfs3/well/margulies/projects/data/COBRE/SCZ/derivatives/fmriprep/clean_data/sub-A00014590/func'.\n",
      "Data not found for subject A00002480: [Errno 2] No such file or directory: '/gpfs3/well/margulies/projects/data/COBRE/SCZ/derivatives/fmriprep/clean_data/sub-A00002480/func'.\n"
     ]
    },
    {
     "name": "stderr",
     "output_type": "stream",
     "text": [
      "  4%|█▊                                        | 43/997 [00:08<03:40,  4.33it/s]"
     ]
    },
    {
     "name": "stdout",
     "output_type": "stream",
     "text": [
      "Data not found for subject A00000909: [Errno 2] No such file or directory: '/gpfs3/well/margulies/projects/data/COBRE/SCZ/derivatives/fmriprep/clean_data/sub-A00000909/func'.\n"
     ]
    },
    {
     "name": "stderr",
     "output_type": "stream",
     "text": [
      "  5%|█▉                                        | 47/997 [00:09<03:27,  4.58it/s]"
     ]
    },
    {
     "name": "stdout",
     "output_type": "stream",
     "text": [
      "Data not found for subject A00001243: [Errno 2] No such file or directory: '/gpfs3/well/margulies/projects/data/COBRE/SCZ/derivatives/fmriprep/clean_data/sub-A00001243/func'.\n"
     ]
    },
    {
     "name": "stderr",
     "output_type": "stream",
     "text": [
      "  5%|██▏                                       | 51/997 [00:10<03:19,  4.73it/s]"
     ]
    },
    {
     "name": "stdout",
     "output_type": "stream",
     "text": [
      "Data not found for subject A00027391: [Errno 2] No such file or directory: '/gpfs3/well/margulies/projects/data/COBRE/SCZ/derivatives/fmriprep/clean_data/sub-A00027391/func'.\n"
     ]
    },
    {
     "name": "stderr",
     "output_type": "stream",
     "text": [
      "  6%|██▍                                       | 58/997 [00:12<03:47,  4.12it/s]"
     ]
    },
    {
     "name": "stdout",
     "output_type": "stream",
     "text": [
      "Data not found for subject A00028303: [Errno 2] No such file or directory: '/gpfs3/well/margulies/projects/data/COBRE/SCZ/derivatives/fmriprep/clean_data/sub-A00028303/func'.\n"
     ]
    },
    {
     "name": "stderr",
     "output_type": "stream",
     "text": [
      "  6%|██▌                                       | 62/997 [00:12<03:21,  4.64it/s]"
     ]
    },
    {
     "name": "stdout",
     "output_type": "stream",
     "text": [
      "Data not found for subject A00031186: [Errno 2] No such file or directory: '/gpfs3/well/margulies/projects/data/COBRE/SCZ/derivatives/fmriprep/clean_data/sub-A00031186/func'.\n"
     ]
    },
    {
     "name": "stderr",
     "output_type": "stream",
     "text": [
      "  7%|██▉                                       | 71/997 [00:14<03:49,  4.03it/s]"
     ]
    },
    {
     "name": "stdout",
     "output_type": "stream",
     "text": [
      "Data not found for subject A00037854: [Errno 2] No such file or directory: '/gpfs3/well/margulies/projects/data/COBRE/SCZ/derivatives/fmriprep/clean_data/sub-A00037854/func'.\n"
     ]
    },
    {
     "name": "stderr",
     "output_type": "stream",
     "text": [
      " 10%|████                                      | 97/997 [00:21<03:53,  3.86it/s]"
     ]
    },
    {
     "name": "stdout",
     "output_type": "stream",
     "text": [
      "Data not found for subject A00022835: [Errno 2] No such file or directory: '/gpfs3/well/margulies/projects/data/COBRE/controls/derivatives/fmriprep/clean_data/sub-A00022835/func'.\n"
     ]
    },
    {
     "name": "stderr",
     "output_type": "stream",
     "text": [
      " 12%|████▉                                    | 119/997 [00:26<03:53,  3.77it/s]"
     ]
    },
    {
     "name": "stdout",
     "output_type": "stream",
     "text": [
      "Data not found for subject A00026907: [Errno 2] No such file or directory: '/gpfs3/well/margulies/projects/data/COBRE/controls/derivatives/fmriprep/clean_data/sub-A00026907/func'.\n",
      "Data not found for subject A00004087: [Errno 2] No such file or directory: '/gpfs3/well/margulies/projects/data/COBRE/controls/derivatives/fmriprep/clean_data/sub-A00004087/func'.\n"
     ]
    },
    {
     "name": "stderr",
     "output_type": "stream",
     "text": [
      " 12%|█████                                    | 123/997 [00:27<02:40,  5.46it/s]"
     ]
    },
    {
     "name": "stdout",
     "output_type": "stream",
     "text": [
      "Data not found for subject A00013363: [Errno 2] No such file or directory: '/gpfs3/well/margulies/projects/data/COBRE/controls/derivatives/fmriprep/clean_data/sub-A00013363/func'.\n",
      "Data not found for subject A00017294: [Errno 2] No such file or directory: '/gpfs3/well/margulies/projects/data/COBRE/controls/derivatives/fmriprep/clean_data/sub-A00017294/func'.\n"
     ]
    },
    {
     "name": "stderr",
     "output_type": "stream",
     "text": [
      " 13%|█████▍                                   | 133/997 [00:29<03:29,  4.13it/s]"
     ]
    },
    {
     "name": "stdout",
     "output_type": "stream",
     "text": [
      "Data not found for subject A00010150: [Errno 2] No such file or directory: '/gpfs3/well/margulies/projects/data/COBRE/controls/derivatives/fmriprep/clean_data/sub-A00010150/func'.\n"
     ]
    },
    {
     "name": "stderr",
     "output_type": "stream",
     "text": [
      " 14%|█████▋                                   | 137/997 [00:30<03:13,  4.45it/s]"
     ]
    },
    {
     "name": "stdout",
     "output_type": "stream",
     "text": [
      "Data not found for subject A00014120: [Errno 2] No such file or directory: '/gpfs3/well/margulies/projects/data/COBRE/controls/derivatives/fmriprep/clean_data/sub-A00014120/func'.\n"
     ]
    },
    {
     "name": "stderr",
     "output_type": "stream",
     "text": [
      "\r",
      " 14%|█████▋                                   | 139/997 [00:30<02:39,  5.39it/s]"
     ]
    },
    {
     "name": "stdout",
     "output_type": "stream",
     "text": [
      "Data not found for subject A00014225: [Errno 2] No such file or directory: '/gpfs3/well/margulies/projects/data/COBRE/controls/derivatives/fmriprep/clean_data/sub-A00014225/func'.\n"
     ]
    },
    {
     "name": "stderr",
     "output_type": "stream",
     "text": [
      " 16%|██████▍                                  | 157/997 [00:34<03:36,  3.88it/s]"
     ]
    },
    {
     "name": "stdout",
     "output_type": "stream",
     "text": [
      "Data not found for subject A00036897: [Errno 2] No such file or directory: '/gpfs3/well/margulies/projects/data/COBRE/controls/derivatives/fmriprep/clean_data/sub-A00036897/func'.\n",
      "Data not found for subject A00036916: [Errno 2] No such file or directory: '/gpfs3/well/margulies/projects/data/COBRE/controls/derivatives/fmriprep/clean_data/sub-A00036916/func'.\n"
     ]
    },
    {
     "name": "stderr",
     "output_type": "stream",
     "text": [
      " 17%|██████▉                                  | 168/997 [00:37<03:36,  3.82it/s]"
     ]
    },
    {
     "name": "stdout",
     "output_type": "stream",
     "text": [
      "Data not found for subject 10193: [Errno 2] No such file or directory: '/gpfs3/well/margulies/projects/data/LA5c/derivatives/fmriprep/clean_data/sub-10193/func'.\n"
     ]
    },
    {
     "name": "stderr",
     "output_type": "stream",
     "text": [
      " 18%|███████▏                                 | 176/997 [00:39<03:29,  3.91it/s]"
     ]
    },
    {
     "name": "stdout",
     "output_type": "stream",
     "text": [
      "Data not found for subject 10269: [Errno 2] No such file or directory: '/gpfs3/well/margulies/projects/data/LA5c/derivatives/fmriprep/clean_data/sub-10269/func'.\n",
      "Data not found for subject 10271: [Errno 2] No such file or directory: '/gpfs3/well/margulies/projects/data/LA5c/derivatives/fmriprep/clean_data/sub-10271/func'.\n"
     ]
    },
    {
     "name": "stderr",
     "output_type": "stream",
     "text": [
      " 18%|███████▌                                 | 183/997 [00:40<03:08,  4.32it/s]"
     ]
    },
    {
     "name": "stdout",
     "output_type": "stream",
     "text": [
      "Data not found for subject 10299: [Errno 2] No such file or directory: '/gpfs3/well/margulies/projects/data/LA5c/derivatives/fmriprep/clean_data/sub-10299/func'.\n"
     ]
    },
    {
     "name": "stderr",
     "output_type": "stream",
     "text": [
      " 19%|███████▉                                 | 194/997 [00:43<03:27,  3.87it/s]"
     ]
    },
    {
     "name": "stdout",
     "output_type": "stream",
     "text": [
      "Data not found for subject 10361: [Errno 2] No such file or directory: '/gpfs3/well/margulies/projects/data/LA5c/derivatives/fmriprep/clean_data/sub-10361/func'.\n"
     ]
    },
    {
     "name": "stderr",
     "output_type": "stream",
     "text": [
      " 20%|████████▏                                | 199/997 [00:44<03:13,  4.13it/s]"
     ]
    },
    {
     "name": "stdout",
     "output_type": "stream",
     "text": [
      "Data not found for subject 10428: [Errno 2] No such file or directory: '/gpfs3/well/margulies/projects/data/LA5c/derivatives/fmriprep/clean_data/sub-10428/func'.\n"
     ]
    },
    {
     "name": "stderr",
     "output_type": "stream",
     "text": [
      " 21%|████████▋                                | 210/997 [00:46<03:22,  3.88it/s]"
     ]
    },
    {
     "name": "stdout",
     "output_type": "stream",
     "text": [
      "Data not found for subject 10501: [Errno 2] No such file or directory: '/gpfs3/well/margulies/projects/data/LA5c/derivatives/fmriprep/clean_data/sub-10501/func'.\n"
     ]
    },
    {
     "name": "stderr",
     "output_type": "stream",
     "text": [
      " 26%|██████████▍                              | 255/997 [00:58<03:17,  3.75it/s]"
     ]
    },
    {
     "name": "stdout",
     "output_type": "stream",
     "text": [
      "Data not found for subject 10948: [Errno 2] No such file or directory: '/gpfs3/well/margulies/projects/data/LA5c/derivatives/fmriprep/clean_data/sub-10948/func'.\n"
     ]
    },
    {
     "name": "stderr",
     "output_type": "stream",
     "text": [
      " 26%|██████████▋                              | 260/997 [00:59<02:56,  4.18it/s]"
     ]
    },
    {
     "name": "stdout",
     "output_type": "stream",
     "text": [
      "Data not found for subject 10971: [Errno 2] No such file or directory: '/gpfs3/well/margulies/projects/data/LA5c/derivatives/fmriprep/clean_data/sub-10971/func'.\n"
     ]
    },
    {
     "name": "stderr",
     "output_type": "stream",
     "text": [
      " 26%|██████████▊                              | 264/997 [01:00<02:45,  4.43it/s]"
     ]
    },
    {
     "name": "stdout",
     "output_type": "stream",
     "text": [
      "Data not found for subject 10998: [Errno 2] No such file or directory: '/gpfs3/well/margulies/projects/data/LA5c/derivatives/fmriprep/clean_data/sub-10998/func'.\n",
      "Data not found for subject 11019: [Errno 2] No such file or directory: '/gpfs3/well/margulies/projects/data/LA5c/derivatives/fmriprep/clean_data/sub-11019/func'.\n",
      "Data not found for subject 11030: [Errno 2] No such file or directory: '/gpfs3/well/margulies/projects/data/LA5c/derivatives/fmriprep/clean_data/sub-11030/func'.\n",
      "Data not found for subject 11044: [Errno 2] No such file or directory: '/gpfs3/well/margulies/projects/data/LA5c/derivatives/fmriprep/clean_data/sub-11044/func'.\n",
      "Data not found for subject 11050: [Errno 2] No such file or directory: '/gpfs3/well/margulies/projects/data/LA5c/derivatives/fmriprep/clean_data/sub-11050/func'.\n",
      "Data not found for subject 11052: [Errno 2] No such file or directory: '/gpfs3/well/margulies/projects/data/LA5c/derivatives/fmriprep/clean_data/sub-11052/func'.\n",
      "Data not found for subject 11059: [Errno 2] No such file or directory: '/gpfs3/well/margulies/projects/data/LA5c/derivatives/fmriprep/clean_data/sub-11059/func'.\n",
      "Data not found for subject 11061: [Errno 2] No such file or directory: '/gpfs3/well/margulies/projects/data/LA5c/derivatives/fmriprep/clean_data/sub-11061/func'.\n",
      "Data not found for subject 11062: [Errno 2] No such file or directory: '/gpfs3/well/margulies/projects/data/LA5c/derivatives/fmriprep/clean_data/sub-11062/func'.\n",
      "Data not found for subject 11066: [Errno 2] No such file or directory: '/gpfs3/well/margulies/projects/data/LA5c/derivatives/fmriprep/clean_data/sub-11066/func'.\n",
      "Data not found for subject 11067: [Errno 2] No such file or directory: '/gpfs3/well/margulies/projects/data/LA5c/derivatives/fmriprep/clean_data/sub-11067/func'.\n",
      "Data not found for subject 11068: [Errno 2] No such file or directory: '/gpfs3/well/margulies/projects/data/LA5c/derivatives/fmriprep/clean_data/sub-11068/func'.\n",
      "Data not found for subject 11077: [Errno 2] No such file or directory: '/gpfs3/well/margulies/projects/data/LA5c/derivatives/fmriprep/clean_data/sub-11077/func'.\n",
      "Data not found for subject 11082: [Errno 2] No such file or directory: '/gpfs3/well/margulies/projects/data/LA5c/derivatives/fmriprep/clean_data/sub-11082/func'.\n",
      "Data not found for subject 11088: [Errno 2] No such file or directory: '/gpfs3/well/margulies/projects/data/LA5c/derivatives/fmriprep/clean_data/sub-11088/func'.\n",
      "Data not found for subject 11090: [Errno 2] No such file or directory: '/gpfs3/well/margulies/projects/data/LA5c/derivatives/fmriprep/clean_data/sub-11090/func'.\n",
      "Data not found for subject 11097: [Errno 2] No such file or directory: '/gpfs3/well/margulies/projects/data/LA5c/derivatives/fmriprep/clean_data/sub-11097/func'.\n",
      "Data not found for subject 11098: [Errno 2] No such file or directory: '/gpfs3/well/margulies/projects/data/LA5c/derivatives/fmriprep/clean_data/sub-11098/func'.\n"
     ]
    },
    {
     "name": "stderr",
     "output_type": "stream",
     "text": [
      " 29%|███████████▊                             | 288/997 [01:01<00:59, 11.92it/s]"
     ]
    },
    {
     "name": "stdout",
     "output_type": "stream",
     "text": [
      "Data not found for subject 11121: [Errno 2] No such file or directory: '/gpfs3/well/margulies/projects/data/LA5c/derivatives/fmriprep/clean_data/sub-11121/func'.\n"
     ]
    },
    {
     "name": "stderr",
     "output_type": "stream",
     "text": [
      " 30%|████████████▏                            | 295/997 [01:03<02:10,  5.40it/s]"
     ]
    },
    {
     "name": "stdout",
     "output_type": "stream",
     "text": [
      "Data not found for subject 50004: [Errno 2] No such file or directory: '/gpfs3/well/margulies/projects/data/LA5c/derivatives/fmriprep/clean_data/sub-50004/func'.\n"
     ]
    },
    {
     "name": "stderr",
     "output_type": "stream",
     "text": [
      "\r",
      " 30%|████████████▏                            | 297/997 [01:03<01:56,  6.02it/s]"
     ]
    },
    {
     "name": "stdout",
     "output_type": "stream",
     "text": [
      "Data not found for subject 50006: [Errno 2] No such file or directory: '/gpfs3/well/margulies/projects/data/LA5c/derivatives/fmriprep/clean_data/sub-50006/func'.\n"
     ]
    },
    {
     "name": "stderr",
     "output_type": "stream",
     "text": [
      " 31%|████████████▌                            | 305/997 [01:05<02:44,  4.20it/s]"
     ]
    },
    {
     "name": "stdout",
     "output_type": "stream",
     "text": [
      "Data not found for subject 50020: [Errno 2] No such file or directory: '/gpfs3/well/margulies/projects/data/LA5c/derivatives/fmriprep/clean_data/sub-50020/func'.\n"
     ]
    },
    {
     "name": "stderr",
     "output_type": "stream",
     "text": [
      "\r",
      " 31%|████████████▌                            | 307/997 [01:05<02:12,  5.23it/s]"
     ]
    },
    {
     "name": "stdout",
     "output_type": "stream",
     "text": [
      "Data not found for subject 50022: [Errno 2] No such file or directory: '/gpfs3/well/margulies/projects/data/LA5c/derivatives/fmriprep/clean_data/sub-50022/func'.\n"
     ]
    },
    {
     "name": "stderr",
     "output_type": "stream",
     "text": [
      " 31%|████████████▊                            | 311/997 [01:06<02:22,  4.80it/s]"
     ]
    },
    {
     "name": "stdout",
     "output_type": "stream",
     "text": [
      "Data not found for subject 50029: [Errno 2] No such file or directory: '/gpfs3/well/margulies/projects/data/LA5c/derivatives/fmriprep/clean_data/sub-50029/func'.\n"
     ]
    },
    {
     "name": "stderr",
     "output_type": "stream",
     "text": [
      " 39%|███████████████▊                         | 384/997 [01:25<02:38,  3.86it/s]"
     ]
    },
    {
     "name": "stdout",
     "output_type": "stream",
     "text": [
      "Data not found for subject 0954: [Errno 2] No such file or directory: '/gpfs3/well/margulies/projects/data/SRPBS_1600/KTT/derivatives/fmriprep/clean_data/sub-0954/func'.\n"
     ]
    },
    {
     "name": "stderr",
     "output_type": "stream",
     "text": [
      " 49%|████████████████████▏                    | 492/997 [01:53<02:12,  3.81it/s]"
     ]
    },
    {
     "name": "stdout",
     "output_type": "stream",
     "text": [
      "Data not found for subject 0696: [Errno 2] No such file or directory: '/gpfs3/well/margulies/projects/data/SRPBS_1600/KUT/derivatives/fmriprep/clean_data/sub-0696/func'.\n"
     ]
    },
    {
     "name": "stderr",
     "output_type": "stream",
     "text": [
      " 51%|████████████████████▊                    | 505/997 [01:56<02:07,  3.85it/s]"
     ]
    },
    {
     "name": "stdout",
     "output_type": "stream",
     "text": [
      "Data not found for subject 0713: [Errno 2] No such file or directory: '/gpfs3/well/margulies/projects/data/SRPBS_1600/KUT/derivatives/fmriprep/clean_data/sub-0713/func'.\n"
     ]
    },
    {
     "name": "stderr",
     "output_type": "stream",
     "text": [
      " 67%|███████████████████████████▍             | 668/997 [02:39<01:28,  3.70it/s]"
     ]
    }
   ],
   "source": [
    "matrices, _ = load_data(participants, 'conn')\n"
   ]
  },
  {
   "cell_type": "markdown",
   "metadata": {},
   "source": [
    "# Model Selection"
   ]
  },
  {
   "cell_type": "code",
   "execution_count": null,
   "metadata": {},
   "outputs": [],
   "source": [
    "exp = setup(matrices, target = 'diagnosis', session_id = 123)"
   ]
  },
  {
   "cell_type": "code",
   "execution_count": null,
   "metadata": {},
   "outputs": [],
   "source": [
    "save_experiment(\"results/full_matrices_exp\")"
   ]
  },
  {
   "cell_type": "code",
   "execution_count": null,
   "metadata": {},
   "outputs": [],
   "source": [
    "best_models = compare_models(n_select = 5)"
   ]
  },
  {
   "cell_type": "code",
   "execution_count": null,
   "metadata": {},
   "outputs": [],
   "source": []
  },
  {
   "cell_type": "code",
   "execution_count": 25,
   "metadata": {},
   "outputs": [
    {
     "data": {
      "text/html": [],
      "text/plain": [
       "<IPython.core.display.HTML object>"
      ]
     },
     "metadata": {},
     "output_type": "display_data"
    },
    {
     "data": {
      "text/html": [
       "<style type=\"text/css\">\n",
       "#T_6c1f3_row20_col0, #T_6c1f3_row20_col1, #T_6c1f3_row20_col2, #T_6c1f3_row20_col3, #T_6c1f3_row20_col4, #T_6c1f3_row20_col5, #T_6c1f3_row20_col6, #T_6c1f3_row22_col0, #T_6c1f3_row22_col1, #T_6c1f3_row22_col2, #T_6c1f3_row22_col3, #T_6c1f3_row22_col4, #T_6c1f3_row22_col5, #T_6c1f3_row22_col6 {\n",
       "  background: yellow;\n",
       "}\n",
       "</style>\n",
       "<table id=\"T_6c1f3\">\n",
       "  <thead>\n",
       "    <tr>\n",
       "      <th class=\"blank\" >&nbsp;</th>\n",
       "      <th class=\"blank level0\" >&nbsp;</th>\n",
       "      <th id=\"T_6c1f3_level0_col0\" class=\"col_heading level0 col0\" >Accuracy</th>\n",
       "      <th id=\"T_6c1f3_level0_col1\" class=\"col_heading level0 col1\" >AUC</th>\n",
       "      <th id=\"T_6c1f3_level0_col2\" class=\"col_heading level0 col2\" >Recall</th>\n",
       "      <th id=\"T_6c1f3_level0_col3\" class=\"col_heading level0 col3\" >Prec.</th>\n",
       "      <th id=\"T_6c1f3_level0_col4\" class=\"col_heading level0 col4\" >F1</th>\n",
       "      <th id=\"T_6c1f3_level0_col5\" class=\"col_heading level0 col5\" >Kappa</th>\n",
       "      <th id=\"T_6c1f3_level0_col6\" class=\"col_heading level0 col6\" >MCC</th>\n",
       "    </tr>\n",
       "    <tr>\n",
       "      <th class=\"index_name level0\" >Split</th>\n",
       "      <th class=\"index_name level1\" >Fold</th>\n",
       "      <th class=\"blank col0\" >&nbsp;</th>\n",
       "      <th class=\"blank col1\" >&nbsp;</th>\n",
       "      <th class=\"blank col2\" >&nbsp;</th>\n",
       "      <th class=\"blank col3\" >&nbsp;</th>\n",
       "      <th class=\"blank col4\" >&nbsp;</th>\n",
       "      <th class=\"blank col5\" >&nbsp;</th>\n",
       "      <th class=\"blank col6\" >&nbsp;</th>\n",
       "    </tr>\n",
       "  </thead>\n",
       "  <tbody>\n",
       "    <tr>\n",
       "      <th id=\"T_6c1f3_level0_row0\" class=\"row_heading level0 row0\" rowspan=\"10\">CV-Train</th>\n",
       "      <th id=\"T_6c1f3_level1_row0\" class=\"row_heading level1 row0\" >0</th>\n",
       "      <td id=\"T_6c1f3_row0_col0\" class=\"data row0 col0\" >1.0000</td>\n",
       "      <td id=\"T_6c1f3_row0_col1\" class=\"data row0 col1\" >0.0000</td>\n",
       "      <td id=\"T_6c1f3_row0_col2\" class=\"data row0 col2\" >1.0000</td>\n",
       "      <td id=\"T_6c1f3_row0_col3\" class=\"data row0 col3\" >1.0000</td>\n",
       "      <td id=\"T_6c1f3_row0_col4\" class=\"data row0 col4\" >1.0000</td>\n",
       "      <td id=\"T_6c1f3_row0_col5\" class=\"data row0 col5\" >1.0000</td>\n",
       "      <td id=\"T_6c1f3_row0_col6\" class=\"data row0 col6\" >1.0000</td>\n",
       "    </tr>\n",
       "    <tr>\n",
       "      <th id=\"T_6c1f3_level1_row1\" class=\"row_heading level1 row1\" >1</th>\n",
       "      <td id=\"T_6c1f3_row1_col0\" class=\"data row1 col0\" >1.0000</td>\n",
       "      <td id=\"T_6c1f3_row1_col1\" class=\"data row1 col1\" >0.0000</td>\n",
       "      <td id=\"T_6c1f3_row1_col2\" class=\"data row1 col2\" >1.0000</td>\n",
       "      <td id=\"T_6c1f3_row1_col3\" class=\"data row1 col3\" >1.0000</td>\n",
       "      <td id=\"T_6c1f3_row1_col4\" class=\"data row1 col4\" >1.0000</td>\n",
       "      <td id=\"T_6c1f3_row1_col5\" class=\"data row1 col5\" >1.0000</td>\n",
       "      <td id=\"T_6c1f3_row1_col6\" class=\"data row1 col6\" >1.0000</td>\n",
       "    </tr>\n",
       "    <tr>\n",
       "      <th id=\"T_6c1f3_level1_row2\" class=\"row_heading level1 row2\" >2</th>\n",
       "      <td id=\"T_6c1f3_row2_col0\" class=\"data row2 col0\" >1.0000</td>\n",
       "      <td id=\"T_6c1f3_row2_col1\" class=\"data row2 col1\" >0.0000</td>\n",
       "      <td id=\"T_6c1f3_row2_col2\" class=\"data row2 col2\" >1.0000</td>\n",
       "      <td id=\"T_6c1f3_row2_col3\" class=\"data row2 col3\" >1.0000</td>\n",
       "      <td id=\"T_6c1f3_row2_col4\" class=\"data row2 col4\" >1.0000</td>\n",
       "      <td id=\"T_6c1f3_row2_col5\" class=\"data row2 col5\" >1.0000</td>\n",
       "      <td id=\"T_6c1f3_row2_col6\" class=\"data row2 col6\" >1.0000</td>\n",
       "    </tr>\n",
       "    <tr>\n",
       "      <th id=\"T_6c1f3_level1_row3\" class=\"row_heading level1 row3\" >3</th>\n",
       "      <td id=\"T_6c1f3_row3_col0\" class=\"data row3 col0\" >1.0000</td>\n",
       "      <td id=\"T_6c1f3_row3_col1\" class=\"data row3 col1\" >0.0000</td>\n",
       "      <td id=\"T_6c1f3_row3_col2\" class=\"data row3 col2\" >1.0000</td>\n",
       "      <td id=\"T_6c1f3_row3_col3\" class=\"data row3 col3\" >1.0000</td>\n",
       "      <td id=\"T_6c1f3_row3_col4\" class=\"data row3 col4\" >1.0000</td>\n",
       "      <td id=\"T_6c1f3_row3_col5\" class=\"data row3 col5\" >1.0000</td>\n",
       "      <td id=\"T_6c1f3_row3_col6\" class=\"data row3 col6\" >1.0000</td>\n",
       "    </tr>\n",
       "    <tr>\n",
       "      <th id=\"T_6c1f3_level1_row4\" class=\"row_heading level1 row4\" >4</th>\n",
       "      <td id=\"T_6c1f3_row4_col0\" class=\"data row4 col0\" >1.0000</td>\n",
       "      <td id=\"T_6c1f3_row4_col1\" class=\"data row4 col1\" >0.0000</td>\n",
       "      <td id=\"T_6c1f3_row4_col2\" class=\"data row4 col2\" >1.0000</td>\n",
       "      <td id=\"T_6c1f3_row4_col3\" class=\"data row4 col3\" >1.0000</td>\n",
       "      <td id=\"T_6c1f3_row4_col4\" class=\"data row4 col4\" >1.0000</td>\n",
       "      <td id=\"T_6c1f3_row4_col5\" class=\"data row4 col5\" >1.0000</td>\n",
       "      <td id=\"T_6c1f3_row4_col6\" class=\"data row4 col6\" >1.0000</td>\n",
       "    </tr>\n",
       "    <tr>\n",
       "      <th id=\"T_6c1f3_level1_row5\" class=\"row_heading level1 row5\" >5</th>\n",
       "      <td id=\"T_6c1f3_row5_col0\" class=\"data row5 col0\" >1.0000</td>\n",
       "      <td id=\"T_6c1f3_row5_col1\" class=\"data row5 col1\" >0.0000</td>\n",
       "      <td id=\"T_6c1f3_row5_col2\" class=\"data row5 col2\" >1.0000</td>\n",
       "      <td id=\"T_6c1f3_row5_col3\" class=\"data row5 col3\" >1.0000</td>\n",
       "      <td id=\"T_6c1f3_row5_col4\" class=\"data row5 col4\" >1.0000</td>\n",
       "      <td id=\"T_6c1f3_row5_col5\" class=\"data row5 col5\" >1.0000</td>\n",
       "      <td id=\"T_6c1f3_row5_col6\" class=\"data row5 col6\" >1.0000</td>\n",
       "    </tr>\n",
       "    <tr>\n",
       "      <th id=\"T_6c1f3_level1_row6\" class=\"row_heading level1 row6\" >6</th>\n",
       "      <td id=\"T_6c1f3_row6_col0\" class=\"data row6 col0\" >1.0000</td>\n",
       "      <td id=\"T_6c1f3_row6_col1\" class=\"data row6 col1\" >0.0000</td>\n",
       "      <td id=\"T_6c1f3_row6_col2\" class=\"data row6 col2\" >1.0000</td>\n",
       "      <td id=\"T_6c1f3_row6_col3\" class=\"data row6 col3\" >1.0000</td>\n",
       "      <td id=\"T_6c1f3_row6_col4\" class=\"data row6 col4\" >1.0000</td>\n",
       "      <td id=\"T_6c1f3_row6_col5\" class=\"data row6 col5\" >1.0000</td>\n",
       "      <td id=\"T_6c1f3_row6_col6\" class=\"data row6 col6\" >1.0000</td>\n",
       "    </tr>\n",
       "    <tr>\n",
       "      <th id=\"T_6c1f3_level1_row7\" class=\"row_heading level1 row7\" >7</th>\n",
       "      <td id=\"T_6c1f3_row7_col0\" class=\"data row7 col0\" >1.0000</td>\n",
       "      <td id=\"T_6c1f3_row7_col1\" class=\"data row7 col1\" >0.0000</td>\n",
       "      <td id=\"T_6c1f3_row7_col2\" class=\"data row7 col2\" >1.0000</td>\n",
       "      <td id=\"T_6c1f3_row7_col3\" class=\"data row7 col3\" >1.0000</td>\n",
       "      <td id=\"T_6c1f3_row7_col4\" class=\"data row7 col4\" >1.0000</td>\n",
       "      <td id=\"T_6c1f3_row7_col5\" class=\"data row7 col5\" >1.0000</td>\n",
       "      <td id=\"T_6c1f3_row7_col6\" class=\"data row7 col6\" >1.0000</td>\n",
       "    </tr>\n",
       "    <tr>\n",
       "      <th id=\"T_6c1f3_level1_row8\" class=\"row_heading level1 row8\" >8</th>\n",
       "      <td id=\"T_6c1f3_row8_col0\" class=\"data row8 col0\" >1.0000</td>\n",
       "      <td id=\"T_6c1f3_row8_col1\" class=\"data row8 col1\" >0.0000</td>\n",
       "      <td id=\"T_6c1f3_row8_col2\" class=\"data row8 col2\" >1.0000</td>\n",
       "      <td id=\"T_6c1f3_row8_col3\" class=\"data row8 col3\" >1.0000</td>\n",
       "      <td id=\"T_6c1f3_row8_col4\" class=\"data row8 col4\" >1.0000</td>\n",
       "      <td id=\"T_6c1f3_row8_col5\" class=\"data row8 col5\" >1.0000</td>\n",
       "      <td id=\"T_6c1f3_row8_col6\" class=\"data row8 col6\" >1.0000</td>\n",
       "    </tr>\n",
       "    <tr>\n",
       "      <th id=\"T_6c1f3_level1_row9\" class=\"row_heading level1 row9\" >9</th>\n",
       "      <td id=\"T_6c1f3_row9_col0\" class=\"data row9 col0\" >1.0000</td>\n",
       "      <td id=\"T_6c1f3_row9_col1\" class=\"data row9 col1\" >0.0000</td>\n",
       "      <td id=\"T_6c1f3_row9_col2\" class=\"data row9 col2\" >1.0000</td>\n",
       "      <td id=\"T_6c1f3_row9_col3\" class=\"data row9 col3\" >1.0000</td>\n",
       "      <td id=\"T_6c1f3_row9_col4\" class=\"data row9 col4\" >1.0000</td>\n",
       "      <td id=\"T_6c1f3_row9_col5\" class=\"data row9 col5\" >1.0000</td>\n",
       "      <td id=\"T_6c1f3_row9_col6\" class=\"data row9 col6\" >1.0000</td>\n",
       "    </tr>\n",
       "    <tr>\n",
       "      <th id=\"T_6c1f3_level0_row10\" class=\"row_heading level0 row10\" rowspan=\"10\">CV-Val</th>\n",
       "      <th id=\"T_6c1f3_level1_row10\" class=\"row_heading level1 row10\" >0</th>\n",
       "      <td id=\"T_6c1f3_row10_col0\" class=\"data row10 col0\" >0.7742</td>\n",
       "      <td id=\"T_6c1f3_row10_col1\" class=\"data row10 col1\" >0.0000</td>\n",
       "      <td id=\"T_6c1f3_row10_col2\" class=\"data row10 col2\" >0.6667</td>\n",
       "      <td id=\"T_6c1f3_row10_col3\" class=\"data row10 col3\" >0.7273</td>\n",
       "      <td id=\"T_6c1f3_row10_col4\" class=\"data row10 col4\" >0.6957</td>\n",
       "      <td id=\"T_6c1f3_row10_col5\" class=\"data row10 col5\" >0.5167</td>\n",
       "      <td id=\"T_6c1f3_row10_col6\" class=\"data row10 col6\" >0.5179</td>\n",
       "    </tr>\n",
       "    <tr>\n",
       "      <th id=\"T_6c1f3_level1_row11\" class=\"row_heading level1 row11\" >1</th>\n",
       "      <td id=\"T_6c1f3_row11_col0\" class=\"data row11 col0\" >0.8065</td>\n",
       "      <td id=\"T_6c1f3_row11_col1\" class=\"data row11 col1\" >0.0000</td>\n",
       "      <td id=\"T_6c1f3_row11_col2\" class=\"data row11 col2\" >0.9167</td>\n",
       "      <td id=\"T_6c1f3_row11_col3\" class=\"data row11 col3\" >0.6875</td>\n",
       "      <td id=\"T_6c1f3_row11_col4\" class=\"data row11 col4\" >0.7857</td>\n",
       "      <td id=\"T_6c1f3_row11_col5\" class=\"data row11 col5\" >0.6157</td>\n",
       "      <td id=\"T_6c1f3_row11_col6\" class=\"data row11 col6\" >0.6370</td>\n",
       "    </tr>\n",
       "    <tr>\n",
       "      <th id=\"T_6c1f3_level1_row12\" class=\"row_heading level1 row12\" >2</th>\n",
       "      <td id=\"T_6c1f3_row12_col0\" class=\"data row12 col0\" >0.8065</td>\n",
       "      <td id=\"T_6c1f3_row12_col1\" class=\"data row12 col1\" >0.0000</td>\n",
       "      <td id=\"T_6c1f3_row12_col2\" class=\"data row12 col2\" >0.5833</td>\n",
       "      <td id=\"T_6c1f3_row12_col3\" class=\"data row12 col3\" >0.8750</td>\n",
       "      <td id=\"T_6c1f3_row12_col4\" class=\"data row12 col4\" >0.7000</td>\n",
       "      <td id=\"T_6c1f3_row12_col5\" class=\"data row12 col5\" >0.5654</td>\n",
       "      <td id=\"T_6c1f3_row12_col6\" class=\"data row12 col6\" >0.5908</td>\n",
       "    </tr>\n",
       "    <tr>\n",
       "      <th id=\"T_6c1f3_level1_row13\" class=\"row_heading level1 row13\" >3</th>\n",
       "      <td id=\"T_6c1f3_row13_col0\" class=\"data row13 col0\" >0.8387</td>\n",
       "      <td id=\"T_6c1f3_row13_col1\" class=\"data row13 col1\" >0.0000</td>\n",
       "      <td id=\"T_6c1f3_row13_col2\" class=\"data row13 col2\" >0.5833</td>\n",
       "      <td id=\"T_6c1f3_row13_col3\" class=\"data row13 col3\" >1.0000</td>\n",
       "      <td id=\"T_6c1f3_row13_col4\" class=\"data row13 col4\" >0.7368</td>\n",
       "      <td id=\"T_6c1f3_row13_col5\" class=\"data row13 col5\" >0.6318</td>\n",
       "      <td id=\"T_6c1f3_row13_col6\" class=\"data row13 col6\" >0.6796</td>\n",
       "    </tr>\n",
       "    <tr>\n",
       "      <th id=\"T_6c1f3_level1_row14\" class=\"row_heading level1 row14\" >4</th>\n",
       "      <td id=\"T_6c1f3_row14_col0\" class=\"data row14 col0\" >0.8387</td>\n",
       "      <td id=\"T_6c1f3_row14_col1\" class=\"data row14 col1\" >0.0000</td>\n",
       "      <td id=\"T_6c1f3_row14_col2\" class=\"data row14 col2\" >0.8333</td>\n",
       "      <td id=\"T_6c1f3_row14_col3\" class=\"data row14 col3\" >0.7692</td>\n",
       "      <td id=\"T_6c1f3_row14_col4\" class=\"data row14 col4\" >0.8000</td>\n",
       "      <td id=\"T_6c1f3_row14_col5\" class=\"data row14 col5\" >0.6652</td>\n",
       "      <td id=\"T_6c1f3_row14_col6\" class=\"data row14 col6\" >0.6667</td>\n",
       "    </tr>\n",
       "    <tr>\n",
       "      <th id=\"T_6c1f3_level1_row15\" class=\"row_heading level1 row15\" >5</th>\n",
       "      <td id=\"T_6c1f3_row15_col0\" class=\"data row15 col0\" >0.7742</td>\n",
       "      <td id=\"T_6c1f3_row15_col1\" class=\"data row15 col1\" >0.0000</td>\n",
       "      <td id=\"T_6c1f3_row15_col2\" class=\"data row15 col2\" >0.8333</td>\n",
       "      <td id=\"T_6c1f3_row15_col3\" class=\"data row15 col3\" >0.6667</td>\n",
       "      <td id=\"T_6c1f3_row15_col4\" class=\"data row15 col4\" >0.7407</td>\n",
       "      <td id=\"T_6c1f3_row15_col5\" class=\"data row15 col5\" >0.5451</td>\n",
       "      <td id=\"T_6c1f3_row15_col6\" class=\"data row15 col6\" >0.5557</td>\n",
       "    </tr>\n",
       "    <tr>\n",
       "      <th id=\"T_6c1f3_level1_row16\" class=\"row_heading level1 row16\" >6</th>\n",
       "      <td id=\"T_6c1f3_row16_col0\" class=\"data row16 col0\" >0.8387</td>\n",
       "      <td id=\"T_6c1f3_row16_col1\" class=\"data row16 col1\" >0.0000</td>\n",
       "      <td id=\"T_6c1f3_row16_col2\" class=\"data row16 col2\" >0.6667</td>\n",
       "      <td id=\"T_6c1f3_row16_col3\" class=\"data row16 col3\" >0.8889</td>\n",
       "      <td id=\"T_6c1f3_row16_col4\" class=\"data row16 col4\" >0.7619</td>\n",
       "      <td id=\"T_6c1f3_row16_col5\" class=\"data row16 col5\" >0.6437</td>\n",
       "      <td id=\"T_6c1f3_row16_col6\" class=\"data row16 col6\" >0.6589</td>\n",
       "    </tr>\n",
       "    <tr>\n",
       "      <th id=\"T_6c1f3_level1_row17\" class=\"row_heading level1 row17\" >7</th>\n",
       "      <td id=\"T_6c1f3_row17_col0\" class=\"data row17 col0\" >0.6774</td>\n",
       "      <td id=\"T_6c1f3_row17_col1\" class=\"data row17 col1\" >0.0000</td>\n",
       "      <td id=\"T_6c1f3_row17_col2\" class=\"data row17 col2\" >0.3333</td>\n",
       "      <td id=\"T_6c1f3_row17_col3\" class=\"data row17 col3\" >0.6667</td>\n",
       "      <td id=\"T_6c1f3_row17_col4\" class=\"data row17 col4\" >0.4444</td>\n",
       "      <td id=\"T_6c1f3_row17_col5\" class=\"data row17 col5\" >0.2512</td>\n",
       "      <td id=\"T_6c1f3_row17_col6\" class=\"data row17 col6\" >0.2812</td>\n",
       "    </tr>\n",
       "    <tr>\n",
       "      <th id=\"T_6c1f3_level1_row18\" class=\"row_heading level1 row18\" >8</th>\n",
       "      <td id=\"T_6c1f3_row18_col0\" class=\"data row18 col0\" >0.7742</td>\n",
       "      <td id=\"T_6c1f3_row18_col1\" class=\"data row18 col1\" >0.0000</td>\n",
       "      <td id=\"T_6c1f3_row18_col2\" class=\"data row18 col2\" >0.5833</td>\n",
       "      <td id=\"T_6c1f3_row18_col3\" class=\"data row18 col3\" >0.7778</td>\n",
       "      <td id=\"T_6c1f3_row18_col4\" class=\"data row18 col4\" >0.6667</td>\n",
       "      <td id=\"T_6c1f3_row18_col5\" class=\"data row18 col5\" >0.5011</td>\n",
       "      <td id=\"T_6c1f3_row18_col6\" class=\"data row18 col6\" >0.5130</td>\n",
       "    </tr>\n",
       "    <tr>\n",
       "      <th id=\"T_6c1f3_level1_row19\" class=\"row_heading level1 row19\" >9</th>\n",
       "      <td id=\"T_6c1f3_row19_col0\" class=\"data row19 col0\" >0.7000</td>\n",
       "      <td id=\"T_6c1f3_row19_col1\" class=\"data row19 col1\" >0.0000</td>\n",
       "      <td id=\"T_6c1f3_row19_col2\" class=\"data row19 col2\" >0.3636</td>\n",
       "      <td id=\"T_6c1f3_row19_col3\" class=\"data row19 col3\" >0.6667</td>\n",
       "      <td id=\"T_6c1f3_row19_col4\" class=\"data row19 col4\" >0.4706</td>\n",
       "      <td id=\"T_6c1f3_row19_col5\" class=\"data row19 col5\" >0.2857</td>\n",
       "      <td id=\"T_6c1f3_row19_col6\" class=\"data row19 col6\" >0.3113</td>\n",
       "    </tr>\n",
       "    <tr>\n",
       "      <th id=\"T_6c1f3_level0_row20\" class=\"row_heading level0 row20\" rowspan=\"2\">CV-Train</th>\n",
       "      <th id=\"T_6c1f3_level1_row20\" class=\"row_heading level1 row20\" >Mean</th>\n",
       "      <td id=\"T_6c1f3_row20_col0\" class=\"data row20 col0\" >1.0000</td>\n",
       "      <td id=\"T_6c1f3_row20_col1\" class=\"data row20 col1\" >0.0000</td>\n",
       "      <td id=\"T_6c1f3_row20_col2\" class=\"data row20 col2\" >1.0000</td>\n",
       "      <td id=\"T_6c1f3_row20_col3\" class=\"data row20 col3\" >1.0000</td>\n",
       "      <td id=\"T_6c1f3_row20_col4\" class=\"data row20 col4\" >1.0000</td>\n",
       "      <td id=\"T_6c1f3_row20_col5\" class=\"data row20 col5\" >1.0000</td>\n",
       "      <td id=\"T_6c1f3_row20_col6\" class=\"data row20 col6\" >1.0000</td>\n",
       "    </tr>\n",
       "    <tr>\n",
       "      <th id=\"T_6c1f3_level1_row21\" class=\"row_heading level1 row21\" >Std</th>\n",
       "      <td id=\"T_6c1f3_row21_col0\" class=\"data row21 col0\" >0.0000</td>\n",
       "      <td id=\"T_6c1f3_row21_col1\" class=\"data row21 col1\" >0.0000</td>\n",
       "      <td id=\"T_6c1f3_row21_col2\" class=\"data row21 col2\" >0.0000</td>\n",
       "      <td id=\"T_6c1f3_row21_col3\" class=\"data row21 col3\" >0.0000</td>\n",
       "      <td id=\"T_6c1f3_row21_col4\" class=\"data row21 col4\" >0.0000</td>\n",
       "      <td id=\"T_6c1f3_row21_col5\" class=\"data row21 col5\" >0.0000</td>\n",
       "      <td id=\"T_6c1f3_row21_col6\" class=\"data row21 col6\" >0.0000</td>\n",
       "    </tr>\n",
       "    <tr>\n",
       "      <th id=\"T_6c1f3_level0_row22\" class=\"row_heading level0 row22\" rowspan=\"2\">CV-Val</th>\n",
       "      <th id=\"T_6c1f3_level1_row22\" class=\"row_heading level1 row22\" >Mean</th>\n",
       "      <td id=\"T_6c1f3_row22_col0\" class=\"data row22 col0\" >0.7829</td>\n",
       "      <td id=\"T_6c1f3_row22_col1\" class=\"data row22 col1\" >0.0000</td>\n",
       "      <td id=\"T_6c1f3_row22_col2\" class=\"data row22 col2\" >0.6364</td>\n",
       "      <td id=\"T_6c1f3_row22_col3\" class=\"data row22 col3\" >0.7726</td>\n",
       "      <td id=\"T_6c1f3_row22_col4\" class=\"data row22 col4\" >0.6803</td>\n",
       "      <td id=\"T_6c1f3_row22_col5\" class=\"data row22 col5\" >0.5222</td>\n",
       "      <td id=\"T_6c1f3_row22_col6\" class=\"data row22 col6\" >0.5412</td>\n",
       "    </tr>\n",
       "    <tr>\n",
       "      <th id=\"T_6c1f3_level1_row23\" class=\"row_heading level1 row23\" >Std</th>\n",
       "      <td id=\"T_6c1f3_row23_col0\" class=\"data row23 col0\" >0.0536</td>\n",
       "      <td id=\"T_6c1f3_row23_col1\" class=\"data row23 col1\" >0.0000</td>\n",
       "      <td id=\"T_6c1f3_row23_col2\" class=\"data row23 col2\" >0.1824</td>\n",
       "      <td id=\"T_6c1f3_row23_col3\" class=\"data row23 col3\" >0.1090</td>\n",
       "      <td id=\"T_6c1f3_row23_col4\" class=\"data row23 col4\" >0.1181</td>\n",
       "      <td id=\"T_6c1f3_row23_col5\" class=\"data row23 col5\" >0.1372</td>\n",
       "      <td id=\"T_6c1f3_row23_col6\" class=\"data row23 col6\" >0.1351</td>\n",
       "    </tr>\n",
       "    <tr>\n",
       "      <th id=\"T_6c1f3_level0_row24\" class=\"row_heading level0 row24\" >Train</th>\n",
       "      <th id=\"T_6c1f3_level1_row24\" class=\"row_heading level1 row24\" >nan</th>\n",
       "      <td id=\"T_6c1f3_row24_col0\" class=\"data row24 col0\" >1.0000</td>\n",
       "      <td id=\"T_6c1f3_row24_col1\" class=\"data row24 col1\" >1.0000</td>\n",
       "      <td id=\"T_6c1f3_row24_col2\" class=\"data row24 col2\" >1.0000</td>\n",
       "      <td id=\"T_6c1f3_row24_col3\" class=\"data row24 col3\" >1.0000</td>\n",
       "      <td id=\"T_6c1f3_row24_col4\" class=\"data row24 col4\" >1.0000</td>\n",
       "      <td id=\"T_6c1f3_row24_col5\" class=\"data row24 col5\" >1.0000</td>\n",
       "      <td id=\"T_6c1f3_row24_col6\" class=\"data row24 col6\" >1.0000</td>\n",
       "    </tr>\n",
       "  </tbody>\n",
       "</table>\n"
      ],
      "text/plain": [
       "<pandas.io.formats.style.Styler at 0x7f05c7e7bfd0>"
      ]
     },
     "metadata": {},
     "output_type": "display_data"
    },
    {
     "data": {
      "text/html": [],
      "text/plain": [
       "<IPython.core.display.HTML object>"
      ]
     },
     "metadata": {},
     "output_type": "display_data"
    },
    {
     "name": "stdout",
     "output_type": "stream",
     "text": [
      "Fitting 10 folds for each of 10 candidates, totalling 100 fits\n",
      "Original model was better than the tuned model, hence it will be returned. NOTE: The display metrics are for the tuned model (not the original one).\n"
     ]
    }
   ],
   "source": [
    "tuned_svm = tune_model(svm, fold = 10, return_train_score = True)"
   ]
  }
 ],
 "metadata": {
  "kernelspec": {
   "display_name": "Python 3 (ipykernel)",
   "language": "python",
   "name": "python3"
  },
  "language_info": {
   "codemirror_mode": {
    "name": "ipython",
    "version": 3
   },
   "file_extension": ".py",
   "mimetype": "text/x-python",
   "name": "python",
   "nbconvert_exporter": "python",
   "pygments_lexer": "ipython3",
   "version": "3.10.8"
  }
 },
 "nbformat": 4,
 "nbformat_minor": 2
}
