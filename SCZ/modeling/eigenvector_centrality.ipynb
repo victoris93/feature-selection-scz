{
 "cells": [
  {
   "cell_type": "code",
   "execution_count": 1,
   "id": "b5bf7459",
   "metadata": {},
   "outputs": [],
   "source": [
    "import numpy as np\n",
    "import nilearn\n",
    "from nilearn import plotting\n",
    "import pandas as pd\n",
    "import os\n",
    "import seaborn as sns\n",
    "from nilearn.connectome import sym_matrix_to_vec\n",
    "from modeling_utils import *\n",
    "import networkx as nx"
   ]
  },
  {
   "cell_type": "code",
   "execution_count": 2,
   "id": "0349c75f",
   "metadata": {},
   "outputs": [],
   "source": [
    "diagnosis = pd.read_csv(\"participants.csv\")[\"diagnosis\"].values"
   ]
  },
  {
   "cell_type": "code",
   "execution_count": 3,
   "id": "091bad1f",
   "metadata": {},
   "outputs": [],
   "source": [
    "scz_features_conn = np.load(\"all_features.npy\")[np.where(diagnosis == 1)[0], :499500]\n",
    "nc_features_conn = np.load(\"all_features.npy\")[np.where(diagnosis == 0)[0], :499500]\n",
    "feature_importance = np.load(\"results/importance_conn.npy\")\n"
   ]
  },
  {
   "cell_type": "code",
   "execution_count": 74,
   "id": "9c4dea28",
   "metadata": {},
   "outputs": [],
   "source": [
    "n = 20000"
   ]
  },
  {
   "cell_type": "code",
   "execution_count": 75,
   "id": "43d0e73d",
   "metadata": {},
   "outputs": [],
   "source": [
    "def weighted_degree_centrality(G):\n",
    "    centrality = {}\n",
    "    for node in G:\n",
    "        weighted_degree = sum(weight for _, _, weight in G.edges(node, data='weight'))\n",
    "        centrality[node] = weighted_degree\n",
    "    return centrality"
   ]
  },
  {
   "cell_type": "code",
   "execution_count": 76,
   "id": "0b3d6d04",
   "metadata": {},
   "outputs": [],
   "source": [
    "avg_conn_matrix_subset_scz = conn_features_to_matrix(100, feature_importance, scz_features_conn)\n",
    "avg_conn_matrix_subset_nc = conn_features_to_matrix(100, feature_importance, nc_features_conn)"
   ]
  },
  {
   "cell_type": "code",
   "execution_count": 77,
   "id": "43a8e480",
   "metadata": {},
   "outputs": [],
   "source": [
    "# np.save(\"mat_subset_scz.npy\", avg_conn_matrix_subset_scz)\n",
    "# np.save(\"mat_subset_nc.npy\", avg_conn_matrix_subset_nc)"
   ]
  },
  {
   "cell_type": "code",
   "execution_count": 78,
   "id": "f01db17a",
   "metadata": {},
   "outputs": [],
   "source": [
    "G_scz = nx.from_numpy_array(avg_conn_matrix_subset_scz)\n",
    "G_nc = nx.from_numpy_array(avg_conn_matrix_subset_nc)"
   ]
  },
  {
   "cell_type": "code",
   "execution_count": 79,
   "id": "168b6ff3",
   "metadata": {},
   "outputs": [],
   "source": [
    "# ecentrality_scz = nx.eigenvector_centrality_numpy(G_scz, weight='weight')\n",
    "# ecentrality_nc = nx.eigenvector_centrality_numpy(G_nc, weight='weight')\n",
    "# lcentrality_nc = nx.laplacian_centrality(G_nc, normalized=True)\n",
    "dcentrality_weighted_scz = weighted_degree_centrality(G_scz)\n",
    "dcentrality_weighted_nc = weighted_degree_centrality(G_nc)\n"
   ]
  },
  {
   "cell_type": "code",
   "execution_count": 80,
   "id": "8eab236a",
   "metadata": {},
   "outputs": [],
   "source": [
    "# ecentrality_scz = np.array(list(ecentrality_scz.values()))\n",
    "# ecentrality_nc = np.array(list(ecentrality_nc.values()))\n",
    "# lcentrality_nc = np.array(list(lcentrality_nc.values()))"
   ]
  },
  {
   "cell_type": "code",
   "execution_count": 81,
   "id": "7af8d071",
   "metadata": {},
   "outputs": [],
   "source": [
    "dcentrality_weighted_scz = np.array(list(dcentrality_weighted_scz.values()))\n",
    "dcentrality_weighted_nc = np.array(list(dcentrality_weighted_nc.values()))"
   ]
  },
  {
   "cell_type": "code",
   "execution_count": 82,
   "id": "4d67e281",
   "metadata": {},
   "outputs": [],
   "source": [
    "# np.save(\"results/eigenvector_centrality_scz.npy\", ecentrality_scz)\n",
    "# np.save(\"results/eigenvector_centrality_nc.npy\", ecentrality_nc)\n",
    "# np.save(\"results/laplacian_centrality_nc_norm.npy\", lcentrality_nc)"
   ]
  },
  {
   "cell_type": "code",
   "execution_count": 83,
   "id": "6d2343a9",
   "metadata": {},
   "outputs": [],
   "source": [
    "np.save(f\"results/degree_centrality_nc_{n}.npy\", dcentrality_weighted_nc)\n",
    "np.save(f\"results/degree_centrality_scz_{n}.npy\", dcentrality_weighted_scz)\n"
   ]
  },
  {
   "cell_type": "code",
   "execution_count": 88,
   "id": "1d554b45",
   "metadata": {},
   "outputs": [
    {
     "data": {
      "text/plain": [
       "(1000,)"
      ]
     },
     "execution_count": 88,
     "metadata": {},
     "output_type": "execute_result"
    }
   ],
   "source": [
    "dcentrality_weighted_scz.shape"
   ]
  },
  {
   "cell_type": "code",
   "execution_count": 73,
   "id": "33776299",
   "metadata": {},
   "outputs": [],
   "source": [
    "G_imp = nx.from_numpy_array(imp_matrix)\n",
    "ecentrality_imp = nx.eigenvector_centrality_numpy(G_imp, weight='weight')\n",
    "ecentrality_imp = np.array(list(ecentrality_imp.values()))\n",
    "np.save(\"results/eigenvector_centrality_imp.npy\", ecentrality_imp)"
   ]
  },
  {
   "cell_type": "markdown",
   "id": "e3639301",
   "metadata": {},
   "source": [
    "## Mann-Whitney Degree Centrality"
   ]
  },
  {
   "cell_type": "code",
   "execution_count": 91,
   "id": "862c24d8",
   "metadata": {},
   "outputs": [],
   "source": [
    "from scipy.stats import mannwhitneyu\n",
    "n_features = [100, 500, 1000, 5000, 10000, 20000]\n",
    "\n",
    "for n in n_features:\n",
    "    scz_features_conn = np.load(\"all_features.npy\")[np.where(diagnosis == 1)[0], :499500]\n",
    "    nc_features_conn = np.load(\"all_features.npy\")[np.where(diagnosis == 0)[0], :499500]\n",
    "\n",
    "    top_indices = np.argsort(-feature_importance)[:n]\n",
    "    mask = np.ones(scz_features_conn.shape[1], dtype=bool)\n",
    "    mask[top_indices] = False\n",
    "\n",
    "    scz_features_conn[:, mask] = np.nan\n",
    "    nc_features_conn[:, mask] = np.nan\n",
    "    \n",
    "    deg_centrality_scz = np.empty((scz_features_conn.shape[0], 1000))\n",
    "    deg_centrality_nc = np.empty((nc_features_conn.shape[0], 1000))\n",
    "    \n",
    "    for i, _ in enumerate(deg_centrality_scz):\n",
    "        mat_scz = conn_features_to_matrix(n, feature_importance,scz_features_conn[i], mean = False)\n",
    "        G_scz = nx.from_numpy_array(mat_scz)\n",
    "        dcentrality_weighted_scz = weighted_degree_centrality(G_scz)\n",
    "        dcentrality_weighted_scz = np.array(list(dcentrality_weighted_scz.values()))\n",
    "        deg_centrality_scz[i] = dcentrality_weighted_scz\n",
    "    np.save(f\"results/degree_centrality_scz_{n}.npy\", deg_centrality_scz)\n",
    "        \n",
    "    for i, _ in enumerate(deg_centrality_nc):\n",
    "        mat_nc = conn_features_to_matrix(n, feature_importance,nc_features_conn[i], mean = False)\n",
    "        G_nc = nx.from_numpy_array(mat_nc)\n",
    "        dcentrality_weighted_nc = weighted_degree_centrality(G_nc)\n",
    "        dcentrality_weighted_nc = np.array(list(dcentrality_weighted_nc.values()))\n",
    "        deg_centrality_nc[i] = dcentrality_weighted_nc\n",
    "    np.save(f\"results/degree_centrality_nc_{n}.npy\", deg_centrality_nc)\n",
    "        \n",
    "    whitneyu_results = np.empty((1000, 2))\n",
    "    \n",
    "    for i, _ in enumerate(deg_centrality_scz.T):\n",
    "        whitneyu_results[i] = mannwhitneyu(deg_centrality_scz[:, i], deg_centrality_nc[:, i])\n",
    "        \n",
    "    np.save(f\"results/deg_centrality_whitneyu_{n}.npy\", whitneyu_results)\n",
    "\n"
   ]
  },
  {
   "cell_type": "code",
   "execution_count": 92,
   "id": "b63bae63",
   "metadata": {},
   "outputs": [
    {
     "data": {
      "text/plain": [
       "(248, 1000)"
      ]
     },
     "execution_count": 92,
     "metadata": {},
     "output_type": "execute_result"
    }
   ],
   "source": [
    "deg_centrality_scz.shape"
   ]
  },
  {
   "cell_type": "code",
   "execution_count": 96,
   "id": "2e74a9ad",
   "metadata": {},
   "outputs": [
    {
     "data": {
      "text/plain": [
       "(248, 1000)"
      ]
     },
     "execution_count": 96,
     "metadata": {},
     "output_type": "execute_result"
    }
   ],
   "source": [
    "np.load(f\"results/degree_centrality_scz_5000.npy\").shape"
   ]
  },
  {
   "cell_type": "code",
   "execution_count": null,
   "id": "a58b454c",
   "metadata": {},
   "outputs": [],
   "source": []
  }
 ],
 "metadata": {
  "kernelspec": {
   "display_name": "Python 3 (ipykernel)",
   "language": "python",
   "name": "python3"
  },
  "language_info": {
   "codemirror_mode": {
    "name": "ipython",
    "version": 3
   },
   "file_extension": ".py",
   "mimetype": "text/x-python",
   "name": "python",
   "nbconvert_exporter": "python",
   "pygments_lexer": "ipython3",
   "version": "3.9.6"
  }
 },
 "nbformat": 4,
 "nbformat_minor": 5
}
