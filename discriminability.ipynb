{
 "cells": [
  {
   "cell_type": "code",
   "execution_count": 1,
   "metadata": {},
   "outputs": [],
   "source": [
    "import nilearn\n",
    "from nibabel.testing import data_path\n",
    "from nilearn import datasets, plotting, regions\n",
    "import brainspace\n",
    "import pandas as pd\n",
    "import numpy as np\n",
    "import os\n",
    "from nilearn import surface\n",
    "import nibabel as nib\n",
    "import matplotlib.pyplot as plt\n",
    "from IPython.core.interactiveshell import InteractiveShell\n",
    "InteractiveShell.ast_node_interactivity = \"all\"\n",
    "#import hcp_utils as hcp\n",
    "from sklearn.neighbors import NearestNeighbors\n",
    "import seaborn as sns\n",
    "from surfplot.plotting import Plot\n",
    "from icc_utils import *\n",
    "from hyppo.discrim import DiscrimOneSample"
   ]
  },
  {
   "cell_type": "code",
   "execution_count": 2,
   "metadata": {},
   "outputs": [],
   "source": [
    "subjects = [\"100206\", \"100307\", \"100408\", \"100610\", \"101006\"]\n",
    "gradient_list = []\n",
    "for subject in subjects:\n",
    "    gradient = np.load(\"HCP/Gradients/%s/%s.pca.ses1.s02mm.npy\" % (subject, subject))\n",
    "    gradient_list.append(gradient.T)\n",
    "\n",
    "gradients_ses1 = np.stack((gradient_list))\n",
    "\n",
    "gradient_list = []\n",
    "for subject in subjects:\n",
    "    gradient = np.load(\"HCP/Gradients/%s/%s.pca.ses2.s02mm.npy\" % (subject, subject))\n",
    "    gradient_list.append(gradient.T)\n",
    "\n",
    "gradients_ses2 = np.stack((gradient_list))\n",
    "\n",
    "margulies_grads = np.load('margulies_grads_32K.npy').T"
   ]
  },
  {
   "cell_type": "code",
   "execution_count": 3,
   "metadata": {},
   "outputs": [
    {
     "name": "stdout",
     "output_type": "stream",
     "text": [
      "Iteration   0: 1430372.139473\n",
      "Iteration   1: 0.002696\n",
      "Iteration   2: 0.000227\n",
      "Iteration   3: 0.000022\n",
      "Iteration   4: 0.000002\n",
      "Iteration   5: 0.000000\n",
      "Iteration   0: 1430444.230893\n",
      "Iteration   1: 0.001681\n",
      "Iteration   2: 0.000064\n",
      "Iteration   3: 0.000003\n",
      "Iteration   4: 0.000000\n"
     ]
    }
   ],
   "source": [
    "from brainspace.gradient.alignment import ProcrustesAlignment\n",
    "\n",
    "alignment = ProcrustesAlignment(verbose=True, n_iter = 10)\n",
    "allGradsAlignedObject_ses1 = alignment.fit(list(gradients_ses1), margulies_grads) # aligning to margulies 2016\n",
    "GradsAligned_ses1 = allGradsAlignedObject_ses1.aligned_\n",
    "allGradsAlignedObject_ses2 = alignment.fit(list(gradients_ses2), margulies_grads) # aligning to margulies 2016\n",
    "GradsAligned_ses2 = allGradsAlignedObject_ses2.aligned_\n",
    "\n",
    "np.save(arr = GradsAligned_ses1, file =\"Grads32kAligned2Margulies2016_ses1.npy\")\n",
    "np.save(arr = GradsAligned_ses2, file =\"Grads32kAligned2Margulies2016_ses2.npy\")"
   ]
  },
  {
   "cell_type": "code",
   "execution_count": 6,
   "metadata": {},
   "outputs": [],
   "source": [
    "aligned_grads_32k_ses1 = np.load(\"Grads32kAligned2Margulies2016_ses1.npy\")\n",
    "aligned_grads_32k_ses2 = np.load(\"Grads32kAligned2Margulies2016_ses2.npy\")"
   ]
  },
  {
   "cell_type": "code",
   "execution_count": 8,
   "metadata": {},
   "outputs": [],
   "source": [
    "disp_ses1 = []\n",
    "for i in range(len(GradsAligned_ses1)):\n",
    "    disp_ses_1 = gradDispersion(GradsAligned_ses1[i], 1600, save = True, filename = \"disp_1600neighbours_ses1.npy\")\n",
    "    disp_ses1.append(disp_ses_1)\n",
    "\n",
    "disp_ses2 = []\n",
    "for i in range(len(GradsAligned_ses2)):\n",
    "    disp_ses_2 = gradDispersion(GradsAligned_ses2[i], 1600, save = True, filename = \"disp_1600neighbours_ses2.npy\")\n",
    "    disp_ses2.append(disp_ses_2)"
   ]
  },
  {
   "cell_type": "code",
   "execution_count": 11,
   "metadata": {},
   "outputs": [
    {
     "data": {
      "text/plain": [
       "(5, 59412)"
      ]
     },
     "execution_count": 11,
     "metadata": {},
     "output_type": "execute_result"
    },
    {
     "data": {
      "text/plain": [
       "(5, 59412)"
      ]
     },
     "execution_count": 11,
     "metadata": {},
     "output_type": "execute_result"
    }
   ],
   "source": []
  },
  {
   "cell_type": "code",
   "execution_count": 7,
   "metadata": {},
   "outputs": [
    {
     "data": {
      "text/plain": [
       "(5, 59412, 3)"
      ]
     },
     "execution_count": 7,
     "metadata": {},
     "output_type": "execute_result"
    }
   ],
   "source": [
    "np.asarray(GradsAligned_ses1).shape"
   ]
  },
  {
   "cell_type": "code",
   "execution_count": 13,
   "metadata": {},
   "outputs": [
    {
     "data": {
      "text/plain": [
       "'1.0, 0.00'"
      ]
     },
     "execution_count": 13,
     "metadata": {},
     "output_type": "execute_result"
    },
    {
     "data": {
      "text/plain": [
       "'1.0, 0.00'"
      ]
     },
     "execution_count": 13,
     "metadata": {},
     "output_type": "execute_result"
    }
   ],
   "source": [
    "x = np.concatenate([np.zeros((50, 2)), np.ones((50, 2))], axis=0)\n",
    "y = np.concatenate([np.zeros(50), np.ones(50)], axis=0)\n",
    "'%.1f, %.2f' % DiscrimOneSample().test(x, y) \n",
    "'1.0, 0.00'"
   ]
  },
  {
   "cell_type": "code",
   "execution_count": 23,
   "metadata": {},
   "outputs": [],
   "source": [
    "disp_ses1 = np.asarray(disp_ses1)\n",
    "disp_ses2 = np.asarray(disp_ses2)"
   ]
  },
  {
   "cell_type": "code",
   "execution_count": 25,
   "metadata": {},
   "outputs": [],
   "source": [
    "disp = np.stack((disp_ses1, disp_ses2))"
   ]
  },
  {
   "cell_type": "code",
   "execution_count": 27,
   "metadata": {},
   "outputs": [
    {
     "data": {
      "text/plain": [
       "(59412, 5, 2)"
      ]
     },
     "execution_count": 27,
     "metadata": {},
     "output_type": "execute_result"
    }
   ],
   "source": [
    "disp.T.shape"
   ]
  },
  {
   "cell_type": "code",
   "execution_count": 14,
   "metadata": {},
   "outputs": [
    {
     "data": {
      "text/plain": [
       "array([[0., 0.],\n",
       "       [0., 0.],\n",
       "       [0., 0.],\n",
       "       [0., 0.],\n",
       "       [0., 0.],\n",
       "       [0., 0.],\n",
       "       [0., 0.],\n",
       "       [0., 0.],\n",
       "       [0., 0.],\n",
       "       [0., 0.],\n",
       "       [0., 0.],\n",
       "       [0., 0.],\n",
       "       [0., 0.],\n",
       "       [0., 0.],\n",
       "       [0., 0.],\n",
       "       [0., 0.],\n",
       "       [0., 0.],\n",
       "       [0., 0.],\n",
       "       [0., 0.],\n",
       "       [0., 0.],\n",
       "       [0., 0.],\n",
       "       [0., 0.],\n",
       "       [0., 0.],\n",
       "       [0., 0.],\n",
       "       [0., 0.],\n",
       "       [0., 0.],\n",
       "       [0., 0.],\n",
       "       [0., 0.],\n",
       "       [0., 0.],\n",
       "       [0., 0.],\n",
       "       [0., 0.],\n",
       "       [0., 0.],\n",
       "       [0., 0.],\n",
       "       [0., 0.],\n",
       "       [0., 0.],\n",
       "       [0., 0.],\n",
       "       [0., 0.],\n",
       "       [0., 0.],\n",
       "       [0., 0.],\n",
       "       [0., 0.],\n",
       "       [0., 0.],\n",
       "       [0., 0.],\n",
       "       [0., 0.],\n",
       "       [0., 0.],\n",
       "       [0., 0.],\n",
       "       [0., 0.],\n",
       "       [0., 0.],\n",
       "       [0., 0.],\n",
       "       [0., 0.],\n",
       "       [0., 0.],\n",
       "       [1., 1.],\n",
       "       [1., 1.],\n",
       "       [1., 1.],\n",
       "       [1., 1.],\n",
       "       [1., 1.],\n",
       "       [1., 1.],\n",
       "       [1., 1.],\n",
       "       [1., 1.],\n",
       "       [1., 1.],\n",
       "       [1., 1.],\n",
       "       [1., 1.],\n",
       "       [1., 1.],\n",
       "       [1., 1.],\n",
       "       [1., 1.],\n",
       "       [1., 1.],\n",
       "       [1., 1.],\n",
       "       [1., 1.],\n",
       "       [1., 1.],\n",
       "       [1., 1.],\n",
       "       [1., 1.],\n",
       "       [1., 1.],\n",
       "       [1., 1.],\n",
       "       [1., 1.],\n",
       "       [1., 1.],\n",
       "       [1., 1.],\n",
       "       [1., 1.],\n",
       "       [1., 1.],\n",
       "       [1., 1.],\n",
       "       [1., 1.],\n",
       "       [1., 1.],\n",
       "       [1., 1.],\n",
       "       [1., 1.],\n",
       "       [1., 1.],\n",
       "       [1., 1.],\n",
       "       [1., 1.],\n",
       "       [1., 1.],\n",
       "       [1., 1.],\n",
       "       [1., 1.],\n",
       "       [1., 1.],\n",
       "       [1., 1.],\n",
       "       [1., 1.],\n",
       "       [1., 1.],\n",
       "       [1., 1.],\n",
       "       [1., 1.],\n",
       "       [1., 1.],\n",
       "       [1., 1.],\n",
       "       [1., 1.],\n",
       "       [1., 1.],\n",
       "       [1., 1.],\n",
       "       [1., 1.]])"
      ]
     },
     "execution_count": 14,
     "metadata": {},
     "output_type": "execute_result"
    }
   ],
   "source": [
    "DiscrimOneSample().test(disp_ses1, ) "
   ]
  },
  {
   "cell_type": "code",
   "execution_count": 15,
   "metadata": {},
   "outputs": [
    {
     "data": {
      "text/plain": [
       "array([0., 0., 0., 0., 0., 0., 0., 0., 0., 0., 0., 0., 0., 0., 0., 0., 0.,\n",
       "       0., 0., 0., 0., 0., 0., 0., 0., 0., 0., 0., 0., 0., 0., 0., 0., 0.,\n",
       "       0., 0., 0., 0., 0., 0., 0., 0., 0., 0., 0., 0., 0., 0., 0., 0., 1.,\n",
       "       1., 1., 1., 1., 1., 1., 1., 1., 1., 1., 1., 1., 1., 1., 1., 1., 1.,\n",
       "       1., 1., 1., 1., 1., 1., 1., 1., 1., 1., 1., 1., 1., 1., 1., 1., 1.,\n",
       "       1., 1., 1., 1., 1., 1., 1., 1., 1., 1., 1., 1., 1., 1., 1.])"
      ]
     },
     "execution_count": 15,
     "metadata": {},
     "output_type": "execute_result"
    }
   ],
   "source": [
    "y"
   ]
  }
 ],
 "metadata": {
  "kernelspec": {
   "display_name": "neuro",
   "language": "python",
   "name": "python3"
  },
  "language_info": {
   "codemirror_mode": {
    "name": "ipython",
    "version": 3
   },
   "file_extension": ".py",
   "mimetype": "text/x-python",
   "name": "python",
   "nbconvert_exporter": "python",
   "pygments_lexer": "ipython3",
   "version": "3.9.13"
  },
  "orig_nbformat": 4,
  "vscode": {
   "interpreter": {
    "hash": "a46811f360801e2b10c5cb0e5e692288746a4ce011302d6efda50fd28a2ae2e3"
   }
  }
 },
 "nbformat": 4,
 "nbformat_minor": 2
}
